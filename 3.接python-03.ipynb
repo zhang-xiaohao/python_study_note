{
 "cells": [
  {
   "cell_type": "code",
   "execution_count": 1,
   "metadata": {},
   "outputs": [],
   "source": [
    "# 考试成绩判断\n",
    "# 90以上： 输出优秀\n",
    "# 80-90：良\n",
    "# 70-80：中\n",
    "# 60-70：平\n",
    "# 60以下： 输出：差"
   ]
  },
  {
   "cell_type": "code",
   "execution_count": 1,
   "metadata": {},
   "outputs": [
    {
     "name": "stdout",
     "output_type": "stream",
     "text": [
      "请输入成绩：68\n",
      "良\n"
     ]
    }
   ],
   "source": [
    "# score  存放学生成绩\n",
    "# 注意input的返回值类型\n",
    "#score = input(\"请输入学生成绩：\")\n",
    "# 需要把str转换成int\n",
    "#score = int(score)\n",
    "\n",
    "\n",
    "\n",
    "score = input(\"请输入成绩：\")\n",
    "score = int(score)\n",
    "if score >= 90:\n",
    "   print(\"优秀\")\n",
    "if score >= 80 and score < 90:\n",
    "   print(\"良\")\n",
    "if score >= 70 and score< 80:\n",
    "   print(\"良\")\n",
    "if score >= 60 and score < 70:\n",
    "   print(\"良\")\n",
    "if score < 60:\n",
    "   print(\"差\")"
   ]
  },
  {
   "cell_type": "markdown",
   "metadata": {},
   "source": [
    "### 多路分支\n",
    "    - 很多分支的情况，简称多路分支\n",
    "    - if 条件表达式:\n",
    "         语句1 \n",
    "         ...\n",
    "      elif 条件表达式:\n",
    "         语句1 \n",
    "         ...\n",
    "       elif 条件表达式:\n",
    "         语句1 \n",
    "         ...\n",
    "       else:\n",
    "         语句1 \n",
    "         ...\n",
    "     - elif 可以由很多个\n",
    "     - else可选\n",
    "     - 多路分支只会选一个执行\n",
    "         "
   ]
  },
  {
   "cell_type": "code",
   "execution_count": 2,
   "metadata": {},
   "outputs": [
    {
     "name": "stdout",
     "output_type": "stream",
     "text": [
      "请输入成绩：50\n",
      "差\n"
     ]
    }
   ],
   "source": [
    "score = input(\"请输入成绩：\")\n",
    "score = int(score)\n",
    "if score >= 90:\n",
    "   print(\"优秀\")\n",
    "elif score >= 80:\n",
    "   print(\"良\")\n",
    "elif score >= 70:\n",
    "   print(\"良\")\n",
    "elif score >=60:\n",
    "   print(\"良\")\n",
    "else:\n",
    "   print(\"差\")"
   ]
  },
  {
   "cell_type": "markdown",
   "metadata": {},
   "source": [
    "### if语句其他\n",
    "    - if语句可以嵌套使用，但不推荐\n",
    "    - python没有switch-case语句"
   ]
  }
 ],
 "metadata": {
  "kernelspec": {
   "display_name": "Python 3",
   "language": "python",
   "name": "python3"
  },
  "language_info": {
   "codemirror_mode": {
    "name": "ipython",
    "version": 3
   },
   "file_extension": ".py",
   "mimetype": "text/x-python",
   "name": "python",
   "nbconvert_exporter": "python",
   "pygments_lexer": "ipython3",
   "version": "3.6.5"
  }
 },
 "nbformat": 4,
 "nbformat_minor": 2
}
