{
 "cells": [
  {
   "cell_type": "markdown",
   "metadata": {},
   "source": [
    "## 三大结构：顺序，分支，循环"
   ]
  },
  {
   "cell_type": "markdown",
   "metadata": {},
   "source": [
    "## 分支\n",
    "   - 分支的基本语法：\n",
    "     if 条件表达式：\n",
    "      语句1\n",
    "      语句2\n",
    "      语句3\n",
    "      ......\n",
    "   - 条件表达式就是计算结果必须为布尔值的表达式\n",
    "   - 表达式后面的冒号不能少\n",
    "   - 注意if后面的出现的语句，如果属于if语句块，则必须同一个缩进等级\n",
    "   - 条件表达式结果为True执行if后面的缩进的语句块"
   ]
  },
  {
   "cell_type": "code",
   "execution_count": 4,
   "metadata": {},
   "outputs": [
    {
     "name": "stdout",
     "output_type": "stream",
     "text": [
      "去叫家长\n"
     ]
    }
   ],
   "source": [
    "# 练习： 如果年龄小于18，打印“去叫家长”\n",
    "age =  17\n",
    "#age = int(age) #第一次没打印出来，以为是字符串和数值的原因，试了还是不行，发现没有冒号，冒号\n",
    "if age < 18:\n",
    "   print(\"去叫家长\")"
   ]
  },
  {
   "cell_type": "code",
   "execution_count": 13,
   "metadata": {},
   "outputs": [
    {
     "name": "stdout",
     "output_type": "stream",
     "text": [
      "开始上车喽，老司机们\n"
     ]
    }
   ],
   "source": [
    "# if语句练习\n",
    "# 如果age小于18岁，则打印信息“去叫家长”\n",
    "age = 19\n",
    "if  age < 18:\n",
    "    print(\"去叫家长吧，孩纸\")\n",
    "    print(\"我们不带你玩\")\n",
    "    print(\"滚球的\")\n",
    "    \n",
    "print(\"开始上车喽，老司机们\")# 了解对齐在执行结果上的区别,也即层级"
   ]
  },
  {
   "cell_type": "code",
   "execution_count": 8,
   "metadata": {},
   "outputs": [
    {
     "name": "stdout",
     "output_type": "stream",
     "text": [
      "我们不带你玩\n",
      "滚球的\n",
      "开始上车喽，老司机们\n"
     ]
    }
   ],
   "source": [
    "# if语句练习\n",
    "# 如果age小于18岁，则打印信息“去叫家长”\n",
    "age = 19\n",
    "if  age < 18:\n",
    "    print(\"去叫家长吧，孩纸\")\n",
    "print(\"我们不带你玩\")\n",
    "print(\"滚球的\")\n",
    "    \n",
    "print(\"开始上车喽，老司机们\")"
   ]
  },
  {
   "cell_type": "code",
   "execution_count": 12,
   "metadata": {},
   "outputs": [
    {
     "name": "stdout",
     "output_type": "stream",
     "text": [
      "今天学习for循环\n",
      "开始讲for循环了\n"
     ]
    }
   ],
   "source": [
    "print(\"今天学习for循环\")\n",
    "gender = \"男\"\n",
    "if gender == \"女\":\n",
    "    print(\"来，叔叔给你糖吃\")\n",
    "\n",
    "print(\"开始讲for循环了\")"
   ]
  },
  {
   "cell_type": "markdown",
   "metadata": {},
   "source": [
    "### 双向分支\n",
    "    -if...else...语句\n",
    "     if 条件表达式：\n",
    "        语句1\n",
    "        语句2\n",
    "        ...\n",
    "     else:\n",
    "        语句1 \n",
    "        语句2\n",
    "        ...\n",
    "    - 双向分支有两个分支，当程序执行到if ... else...语句的时候，一定会执行if或else中的一个，也仅执行一个\n",
    "    - 缩进问题，if和else一个层级，其余语句一个层级"
   ]
  },
  {
   "cell_type": "code",
   "execution_count": 1,
   "metadata": {},
   "outputs": [
    {
     "name": "stdout",
     "output_type": "stream",
     "text": [
      "请输入性别: 女\n",
      "你的性别是女\n",
      "发糖了\n",
      "开始上课了\n"
     ]
    }
   ],
   "source": [
    "# input的作用是\n",
    "# 1. 在屏幕上输出括号内的字符串\n",
    "# 2. 接受用户输入的内容并返回到程序\n",
    "# 3. input返回的内容一定是字符串类型\n",
    "gender = input(\"请输入性别: \")\n",
    "print(\"你的性别是{}\".format(gender))#注意引号的位置，\n",
    "\n",
    "if gender == \"男\":\n",
    "   print(\"代码敲十遍\")\n",
    "else:\n",
    "    print(\"发糖了\")\n",
    "    \n",
    "print(\"开始上课了\")"
   ]
  }
 ],
 "metadata": {
  "kernelspec": {
   "display_name": "Python 3",
   "language": "python",
   "name": "python3"
  },
  "language_info": {
   "codemirror_mode": {
    "name": "ipython",
    "version": 3
   },
   "file_extension": ".py",
   "mimetype": "text/x-python",
   "name": "python",
   "nbconvert_exporter": "python",
   "pygments_lexer": "ipython3",
   "version": "3.6.5"
  }
 },
 "nbformat": 4,
 "nbformat_minor": 2
}
