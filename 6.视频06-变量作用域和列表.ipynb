{
 "cells": [
  {
   "cell_type": "markdown",
   "metadata": {},
   "source": [
    "# 变量作用域\n",
    "- 变量有作用范围限制\n",
    "- 按照作用域分类\n",
    "  - 全局(global): 在函数外部定义\n",
    "  - 局部（local)：在函数内部定义\n",
    "- 变量的作用范围：\n",
    "  - 全局变量：在整个全局范围都有效\n",
    "  - 全局变量在局部可以使用\n",
    "  - 局部变量在局部范围可以使用\n",
    "  - 局部变量在全局范围无法使用  ##小的可以访问大范围的，大范围不能访问小范围的"
   ]
  },
  {
   "cell_type": "code",
   "execution_count": 4,
   "metadata": {},
   "outputs": [
    {
     "name": "stdout",
     "output_type": "stream",
     "text": [
      "10\n",
      "i can be printed\n",
      "9\n"
     ]
    }
   ],
   "source": [
    "a1 = 10\n",
    "def func():\n",
    "    print(a1)\n",
    "    print(\"i can be printed\")\n",
    "    a2 = 9\n",
    "    print(a2)\n",
    "func()\n",
    "#print(a2)\n",
    "    "
   ]
  },
  {
   "cell_type": "code",
   "execution_count": 5,
   "metadata": {},
   "outputs": [
    {
     "name": "stdout",
     "output_type": "stream",
     "text": [
      "100\n",
      "100\n",
      "I am in fun\n",
      "99\n"
     ]
    }
   ],
   "source": [
    "# 认为a1是全局的\n",
    "a1 = 100\n",
    "\n",
    "def fun():\n",
    "    print(a1)\n",
    "    print(\"I am in fun\")\n",
    "    # a2的作用范围是fun\n",
    "    a2 = 99\n",
    "    print(a2)\n",
    "    \n",
    "    \n",
    "print(a1)\n",
    "fun()\n",
    "#print(a2)"
   ]
  },
  {
   "cell_type": "markdown",
   "metadata": {},
   "source": [
    "## 提升局部变量为全局变量\n",
    "  - 使用global\n",
    "  - 案例如下"
   ]
  },
  {
   "cell_type": "code",
   "execution_count": 1,
   "metadata": {},
   "outputs": [
    {
     "name": "stdout",
     "output_type": "stream",
     "text": [
      "100\n",
      "I am in fun\n",
      "99\n",
      "100\n"
     ]
    }
   ],
   "source": [
    "def fun():\n",
    "    global b1\n",
    "    b1 = 100\n",
    "    print(b1)\n",
    "    print(\"I am in fun\")\n",
    "    # a2的作用范围是fun\n",
    "    b2 = 99\n",
    "    print(b2)\n",
    "    \n",
    "    \n",
    "\n",
    "#print(b2)\n",
    "fun()\n",
    "# print(b1)如果在函数调用上面，则不好使，报错，为什么？？？\n",
    "print(b1)"
   ]
  },
  {
   "cell_type": "markdown",
   "metadata": {},
   "source": [
    "# gloabls, locals函数\n",
    "- 可以通过globals和locals显示出局部变量和全局变量（不知道有哪些局部或全局变量，通过此种方法显示）\n",
    "- 参看案例"
   ]
  },
  {
   "cell_type": "code",
   "execution_count": 1,
   "metadata": {},
   "outputs": [
    {
     "name": "stdout",
     "output_type": "stream",
     "text": [
      "Locals={'e': 111, 'd': 200, 'c': 100}\n",
      "Globals={'__name__': '__main__', '__doc__': 'Automatically created module for IPython interactive environment', '__package__': None, '__loader__': None, '__spec__': None, '__builtin__': <module 'builtins' (built-in)>, '__builtins__': <module 'builtins' (built-in)>, '_ih': ['', '## globals 和locals函数\\n# globals和locals 函数都是内建函数\\na = 1\\nb = 2\\ndef func(c,d):\\n    e = 111\\n    print(\"Locals={0}\".format(locals()))\\n    print(\"Globals={0}\".format(globals()))\\nfunc(100,200)'], '_oh': {}, '_dh': ['C:\\\\Users\\\\张豪\\\\python-study-note'], 'In': ['', '## globals 和locals函数\\n# globals和locals 函数都是内建函数\\na = 1\\nb = 2\\ndef func(c,d):\\n    e = 111\\n    print(\"Locals={0}\".format(locals()))\\n    print(\"Globals={0}\".format(globals()))\\nfunc(100,200)'], 'Out': {}, 'get_ipython': <bound method InteractiveShell.get_ipython of <ipykernel.zmqshell.ZMQInteractiveShell object at 0x0000000B22C64898>>, 'exit': <IPython.core.autocall.ZMQExitAutocall object at 0x0000000B22C95080>, 'quit': <IPython.core.autocall.ZMQExitAutocall object at 0x0000000B22C95080>, '_': '', '__': '', '___': '', '_i': '', '_ii': '', '_iii': '', '_i1': '## globals 和locals函数\\n# globals和locals 函数都是内建函数\\na = 1\\nb = 2\\ndef func(c,d):\\n    e = 111\\n    print(\"Locals={0}\".format(locals()))\\n    print(\"Globals={0}\".format(globals()))\\nfunc(100,200)', 'a': 1, 'b': 2, 'func': <function func at 0x0000000B2390BA60>}\n"
     ]
    }
   ],
   "source": [
    "## globals 和locals函数\n",
    "# globals和locals 函数都是内建函数\n",
    "a = 1\n",
    "b = 2\n",
    "def func(c,d):\n",
    "    e = 111\n",
    "    print(\"Locals={0}\".format(locals()))\n",
    "    print(\"Globals={0}\".format(globals()))\n",
    "func(100,200)"
   ]
  },
  {
   "cell_type": "markdown",
   "metadata": {},
   "source": [
    "# eval()函数\n",
    "- 把一个字符串当成一个表达式来执行， 返回表达式执行后的结果\n",
    "- 语法：\n",
    "        eval(string_code, globals=None, locals=None)"
   ]
  },
  {
   "cell_type": "markdown",
   "metadata": {},
   "source": [
    "## exec()函数\n",
    "- 跟eval功能类似， 但是，不返回结果\n",
    "- 语法：\n",
    "\n",
    "    exec(string_code, globals=None, locals=None)"
   ]
  },
  {
   "cell_type": "code",
   "execution_count": 8,
   "metadata": {},
   "outputs": [
    {
     "name": "stdout",
     "output_type": "stream",
     "text": [
      "300\n",
      "300\n"
     ]
    }
   ],
   "source": [
    "x = 100\n",
    "y = 200\n",
    "z1 = eval(\"x+y\")#括号里加号的前后没有空格\n",
    "z2 = x + y\n",
    "print(z1)\n",
    "print(z2)"
   ]
  },
  {
   "cell_type": "code",
   "execution_count": null,
   "metadata": {},
   "outputs": [],
   "source": []
  },
  {
   "cell_type": "code",
   "execution_count": 18,
   "metadata": {},
   "outputs": [
    {
     "name": "stdout",
     "output_type": "stream",
     "text": [
      "x+y: 300\n",
      "300\n",
      "None\n"
     ]
    }
   ],
   "source": [
    "# exec示例\n",
    "x = 100\n",
    "y = 200\n",
    "\n",
    "z3 = x + y\n",
    "# 1, 注意字符串中引号的写法\n",
    "# 2. 比对exec执行结果和代码执行结果\n",
    "z4 = exec(\"print('x+y:', x+y)\")\n",
    "\n",
    "print(z3)\n",
    "print(z4)"
   ]
  },
  {
   "cell_type": "markdown",
   "metadata": {},
   "source": [
    "exec，先执行括号里面的打印X+y,然后执行完之后，把exec的结果赋值给z2\n",
    "- 列表是有先后顺序的，顺序不能错"
   ]
  },
  {
   "cell_type": "markdown",
   "metadata": {},
   "source": [
    "# 递归函数\n",
    "- 含税直接或者间接调用自身\n",
    "- 优点：简洁，理解容易\n",
    "- 缺点：对递归深度有限制，消耗资源大\n",
    "- python对递归深度有限制，超过限制报错\n",
    "- 在写递归程序的时候，一定注意结束条件"
   ]
  },
  {
   "cell_type": "code",
   "execution_count": 21,
   "metadata": {},
   "outputs": [],
   "source": [
    "# 递归调用深度限制代码\n",
    "\n",
    "x = 0\n",
    "\n",
    "def fun():\n",
    "    global x\n",
    "    x += 1\n",
    "    print(x)\n",
    "    # 函数自己调用自己\n",
    "    fun()\n",
    "    \n",
    "# 调用函数\n",
    "fun()#我没有执行"
   ]
  },
  {
   "cell_type": "code",
   "execution_count": 41,
   "metadata": {},
   "outputs": [
    {
     "name": "stdout",
     "output_type": "stream",
     "text": [
      "2\n",
      "55\n"
     ]
    }
   ],
   "source": [
    "# 斐波那契额数列# 斐波那契额数 \n",
    "# 一列数字，第一个值是1， 第二个也是1， 从第三个开始，每一个数字的值等于前两个数字出现的值的和\n",
    "# 数学公式为： f(1) = 1, f(2) = 1, f(n) = f(n-1) + f(n-2)\n",
    "# 例如： 1,1，2，3,5,8,13.。。。。。。。。\n",
    "\n",
    "# 下面求斐波那契数列函数有一定问题，比如n一开始就是负数，如何修正\n",
    "# n表示求第n个数子的斐波那契数列的值\n",
    "\n",
    "def fib(n):\n",
    "    if n == 1:\n",
    "        # print(\"1\")我写的结果，执行错误\n",
    "        return 1\n",
    "    if n == 2:\n",
    "        # print(\"1\"),上一句的print报错了，这一句却没有，?\n",
    "        return 1\n",
    "   \n",
    "    #fib(n) = fib(n-1) + fib(n-2)\n",
    "    return fib(n-1) + fib(n-2)#这个语句要记住，M不能定义一个，例如a，来输出\n",
    "    \n",
    "print(fib(3))\n",
    "print(fib(10))  "
   ]
  },
  {
   "cell_type": "markdown",
   "metadata": {},
   "source": [
    "\n",
    "# 内置数据结构（变量类型）\n",
    "- list\n",
    "- set\n",
    "- dict\n",
    "- tuple ## list(列表）\n",
    "- 一组由顺序的数据的组合\n",
    "- 创建列表\n",
    "  - 空列表"
   ]
  },
  {
   "cell_type": "code",
   "execution_count": 42,
   "metadata": {},
   "outputs": [
    {
     "name": "stdout",
     "output_type": "stream",
     "text": [
      "<class 'list'>\n",
      "[]\n",
      "<class 'list'>\n",
      "[100]\n",
      "<class 'list'>\n",
      "[2, 3, 1, 4, 6, 4, 6]\n",
      "<class 'list'>\n",
      "[]\n"
     ]
    }
   ],
   "source": [
    "# 1, 创建空列表\n",
    "l1 = []\n",
    "# type是内置函数，负责打印出变量的类型\n",
    "print(type(l1))\n",
    "print(l1)\n",
    "\n",
    "# 2. 创建带值的列表\n",
    "l2 = [100]\n",
    "print(type(l2))\n",
    "print(l2)\n",
    "\n",
    "# 3. 创建列表，带多个值\n",
    "l3 = [2,3,1,4,6,4,6]\n",
    "print(type(l3))\n",
    "print(l3)\n",
    "\n",
    "# 4. 使用list()\n",
    "l4 = list()\n",
    "print(type(l4))\n",
    "print(l4)"
   ]
  },
  {
   "cell_type": "markdown",
   "metadata": {},
   "source": [
    "## 列表常用操作\n",
    "- 访问\n",
    "  - 使用下标操作（索引）\n",
    "  - 列表的位置是从0开始\n",
    "- 分片操作\n",
    "  - 对列表进行任意一段的截取"
   ]
  },
  {
   "cell_type": "code",
   "execution_count": 44,
   "metadata": {},
   "outputs": [
    {
     "name": "stdout",
     "output_type": "stream",
     "text": [
      "2\n"
     ]
    }
   ],
   "source": [
    "a = [1,2,3,4,5,6,7,8]\n",
    "print(a[1])"
   ]
  },
  {
   "cell_type": "code",
   "execution_count": 46,
   "metadata": {},
   "outputs": [
    {
     "name": "stdout",
     "output_type": "stream",
     "text": [
      "[2, 3]\n"
     ]
    }
   ],
   "source": [
    "# 分片操作# 分片操作\n",
    "# 注意截取的范围，包含左边的下标值，不包含右边的下标值\n",
    "print(a[1:3])"
   ]
  },
  {
   "cell_type": "code",
   "execution_count": 49,
   "metadata": {},
   "outputs": [
    {
     "name": "stdout",
     "output_type": "stream",
     "text": [
      "[1, 2, 3, 4, 5, 6, 7, 8]\n",
      "[3, 4, 5, 6, 7, 8]\n",
      "[1, 2, 3, 4]\n"
     ]
    }
   ],
   "source": [
    "# 下标值可以为空，如果不写，左边下标值默认为0， 右边下标值为最大数加一，即表示截取到最后一个数据\n",
    "print(a[:])\n",
    "print(a[2:])\n",
    "print(a[:4])"
   ]
  },
  {
   "cell_type": "code",
   "execution_count": 56,
   "metadata": {},
   "outputs": [
    {
     "name": "stdout",
     "output_type": "stream",
     "text": [
      "[2, 3, 4, 5]\n",
      "[2, 4]\n",
      "[3, 4, 5, 6, 7, 8, 9, 10]\n"
     ]
    }
   ],
   "source": [
    "b = [1,2,3,4,5,6,7,8,9,10]\n",
    "# 分片可以控制增长幅度，默认增长幅度为1\n",
    "print(b[1:5:1])\n",
    "print(b[1:5:2])\n",
    "# 下标可以超出范围，超出后不再考虑多余下标内容\n",
    "print(b[2:20])\n",
    "# 下标值，增长幅度可以为负数\n",
    "# 为负数，表明顺序是从右往左\n",
    "# 规定： 数组最后一个数字的下标是-1\n"
   ]
  },
  {
   "cell_type": "code",
   "execution_count": 67,
   "metadata": {},
   "outputs": [
    {
     "name": "stdout",
     "output_type": "stream",
     "text": [
      "[1, 2, 3, 4, 5, 6, 7, 8, 9, 10]\n",
      "[]\n",
      "[]\n",
      "[5, 6, 7, 8, 9]\n",
      "[5, 7, 9]\n",
      "[10, 8, 6]\n"
     ]
    }
   ],
   "source": [
    "# 分片之负数下标# 分片之负数下 \n",
    "print(b)\n",
    "# 下面显示的是为空，因为默认分片总是从左向右截取\n",
    "# 即正常情况，分片左边的值一定小于右边的值\n",
    "\n",
    "print(b[1:6:-1])\n",
    "print(b[-1:-6])\n",
    "print(b[-6:-1])\n",
    "\n",
    "\n",
    "print(b[-6:-1:2])\n",
    "print(b[-1:-6:-2])\n",
    "# M 对比这两个发现，发现实在是太乱了这种方法，分不清楚。。还是别用负数了"
   ]
  },
  {
   "cell_type": "markdown",
   "metadata": {},
   "source": [
    "### 分片操作是生成一个新的list\n",
    "- 内置函数id，负责显示一个变量或者数据的唯一确定编号"
   ]
  },
  {
   "cell_type": "code",
   "execution_count": 82,
   "metadata": {},
   "outputs": [
    {
     "name": "stdout",
     "output_type": "stream",
     "text": [
      "1938323616\n",
      "1938323616\n",
      "101\n",
      "100\n",
      "1938323648\n",
      "1938323616\n"
     ]
    }
   ],
   "source": [
    "a = 100\n",
    "print(id(a))\n",
    "\n",
    "b = a\n",
    "print(id(b))\n",
    "\n",
    "# 如果a跟b指向一份数据，则更改a的值同样也会更改b的值\n",
    "# 但是，显示结果并非如此，为什么？  #m 下面的列表指向一组数据的话，更改的话两个都变，考虑：可变和不可变？\n",
    "a = 101\n",
    "print(a)\n",
    "print(b)\n",
    "\n",
    "print(id(a))\n",
    "print(id(b))"
   ]
  },
  {
   "cell_type": "code",
   "execution_count": null,
   "metadata": {},
   "outputs": [],
   "source": [
    "# 通过id可以直接判断出分片是从新生成了一份数据还是使用的同一份数据# 通过id可以"
   ]
  },
  {
   "cell_type": "code",
   "execution_count": 81,
   "metadata": {},
   "outputs": [
    {
     "name": "stdout",
     "output_type": "stream",
     "text": [
      "[9, 8, 7, 6, 5, 4, 3]\n",
      "[8, 7, 6]\n",
      "[8, 7, 6]\n",
      "658138560776\n",
      "658138454408\n",
      "658138454408\n",
      "[8, 8, 6]\n",
      "[8, 8, 6]\n"
     ]
    }
   ],
   "source": [
    "l1 = [9,8,7,6,5,4,3]\n",
    "l2 = l1[1:4]\n",
    "l3 = l2\n",
    "print(l1)\n",
    "print(l2)\n",
    "print(l3)\n",
    "\n",
    "\n",
    "print(id(l1))\n",
    "print(id(l2))\n",
    "print(id(l3))\n",
    "\n",
    "l2[1] = 8\n",
    "print(l2)\n",
    "print(l3)"
   ]
  },
  {
   "cell_type": "code",
   "execution_count": 79,
   "metadata": {},
   "outputs": [
    {
     "name": "stdout",
     "output_type": "stream",
     "text": [
      "658154191816\n",
      "658155653128\n",
      "658155653128\n",
      "[3, 100, 56, 76, 32, 21, 43, 5]\n",
      "[3, 4, 56, 76, 32, 21, 43, 5]\n",
      "[3, 100, 56, 76, 32, 21, 43, 5]\n",
      "[3, 100, 56, 76, 32, 21, 43, 5]\n"
     ]
    }
   ],
   "source": [
    "# 通过id可以直接判断出分片是从新生成了一份数据还是使用的同一份数据\n",
    "l = [3,4,56,76,32,21,43,5]\n",
    "ll = l[:]\n",
    "lll = ll\n",
    "# 如果两个id值一样，则表明分片产生的列表是使用的同一地址同一份数据\n",
    "# 否则，则表明分片是从新生成了一份数据，即一个新的列表，然后把数值拷贝到新列表中\n",
    "print(id(l))\n",
    "print(id(ll))\n",
    "print(id(lll))\n",
    "\n",
    "# 通过id知道，ll和lll是同一份数据，验证代码如下\n",
    "l[1] = 100\n",
    "print(l)\n",
    "print(ll)\n",
    "\n",
    "ll[1] = 100\n",
    "print(ll)\n",
    "print(lll)"
   ]
  },
  {
   "cell_type": "code",
   "execution_count": null,
   "metadata": {},
   "outputs": [],
   "source": []
  }
 ],
 "metadata": {
  "kernelspec": {
   "display_name": "Python 3",
   "language": "python",
   "name": "python3"
  },
  "language_info": {
   "codemirror_mode": {
    "name": "ipython",
    "version": 3
   },
   "file_extension": ".py",
   "mimetype": "text/x-python",
   "name": "python",
   "nbconvert_exporter": "python",
   "pygments_lexer": "ipython3",
   "version": "3.6.5"
  }
 },
 "nbformat": 4,
 "nbformat_minor": 2
}
