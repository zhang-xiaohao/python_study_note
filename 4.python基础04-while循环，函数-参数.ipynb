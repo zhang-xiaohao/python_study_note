{
 "cells": [
  {
   "cell_type": "markdown",
   "metadata": {},
   "source": [
    "# while循环\n",
    "    - 一个循环语句\n",
    "    - 表示当某条件成立的时候，就循环\n",
    "    - 不知道具体循环次数，但能确定循环的成立条件的时候用while循环\n",
    "    - while语法：\n",
    "           while 条件表达式：\n",
    "             语句块\n",
    "\n",
    "      #另外一种表达方法\n",
    "      while  条件表达式：\n",
    "          语句块1\n",
    "      else：\n",
    "          语句块2   #其实也就是执行完while以后，退出循环，执行else\n",
    "          \n",
    "     break,continue,pass跟for一样"
   ]
  },
  {
   "cell_type": "code",
   "execution_count": 4,
   "metadata": {},
   "outputs": [
    {
     "name": "stdout",
     "output_type": "stream",
     "text": [
      "第1年的本利和为10670.0\n",
      "第2年的本利和为11384.89\n",
      "第3年的本利和为12147.677629999998\n",
      "第4年的本利和为12961.572031209998\n",
      "第5年的本利和为13829.997357301068\n",
      "第6年的本利和为14756.607180240238\n",
      "第7年的本利和为15745.299861316334\n",
      "第8年的本利和为16800.23495202453\n",
      "第9年的本利和为17925.85069381017\n",
      "第10年的本利和为19126.88269029545\n",
      "第11年的本利和为20408.383830545245\n"
     ]
    }
   ],
   "source": [
    "# 如果说年利率是6.7%，本利是每年翻滚， 则多少年后本钱会翻倍\n",
    "\n",
    "benjin = 10000\n",
    "year = 0 \n",
    "while benjin < 20000:\n",
    "    benjin =  benjin*(1+0.067)\n",
    "    year += 1\n",
    "    print(\"第{0}年的本利和为{1}\".format(year,benjin))"
   ]
  },
  {
   "cell_type": "markdown",
   "metadata": {},
   "source": [
    "# 函数\n",
    "- 代码的一种组织形式\n",
    "- 一个函数一般完成一项特定的功能\n",
    "- 函数使用\n",
    "  - 函数需要先定义\n",
    "  - 使用函数，俗称调用"
   ]
  },
  {
   "cell_type": "code",
   "execution_count": 5,
   "metadata": {},
   "outputs": [
    {
     "name": "stdout",
     "output_type": "stream",
     "text": [
      "我结束了\n"
     ]
    }
   ],
   "source": [
    "# 定义一个函数\n",
    "# 只是定义的话不会执行\n",
    "# 1. def关键字，后跟一个空格\n",
    "# 2. 函数名，自己定义，起名需要遵循便令命名规则，约定俗成，大驼峰命名只给类用\n",
    "# 3. 后面括号和冒号不能省，括号内可以由参数\n",
    "# 4. 函数内所有代码缩进\n",
    "\n",
    "def func():\n",
    "    print(\"我是一个函数\")\n",
    "    print(\"我要完成一定功能\")\n",
    "print(\"我结束了\")"
   ]
  },
  {
   "cell_type": "code",
   "execution_count": 8,
   "metadata": {},
   "outputs": [
    {
     "name": "stdout",
     "output_type": "stream",
     "text": [
      "我是一个函数\n",
      "我要完成一定功能\n"
     ]
    }
   ],
   "source": [
    "# 函数的调用\n",
    "# 直接函数名后面跟括号\n",
    "func()\n",
    "\n",
    "# M 若上述函数中print(“我结束了”)和上面的语句块对齐，则调用后三行文字"
   ]
  },
  {
   "cell_type": "markdown",
   "metadata": {},
   "source": [
    "## 函数的参数和返回值\n",
    "   - 参数： 负责给函数传递一些必要的数据或者信息\n",
    "      - 形参（形式参数）： 在函数定义的时候用到的参数没有具体值，只是一个占位的符号，成为形参\n",
    "      - 实参（实际参数）： 在调用函数的时候输入的值\n",
    "   - 返回值： 函数的执行结果\n",
    "      - 使用return关键字\n",
    "      - 如果没有return，默认返回一个None\n",
    "      - 函数一旦执行return语句，则无条件返回，即结束函数的执行"
   ]
  },
  {
   "cell_type": "code",
   "execution_count": 2,
   "metadata": {},
   "outputs": [
    {
     "name": "stdout",
     "output_type": "stream",
     "text": [
      "明月, 你好\n",
      "今天天气很好\n"
     ]
    }
   ],
   "source": [
    "# 参数的定义和使用\n",
    "# 参数person只是一个符号，代表的是调用的时候的某一个数据\n",
    "# 调用的时候，会用p的值代替函数中所有的person\n",
    "\n",
    "def hello(person):\n",
    "    print(\"{0}, 你好\".format(person))\n",
    "    print(\"今天天气很好\")\n",
    "  \n",
    "p = \"明月\"\n",
    "hello(p)\n",
    "\n",
    "# M 此处p用person也是可以的，其实无所谓，上面的参数是形参"
   ]
  },
  {
   "cell_type": "code",
   "execution_count": 3,
   "metadata": {
    "scrolled": true
   },
   "outputs": [
    {
     "name": "stdout",
     "output_type": "stream",
     "text": [
      "明月, 你好\n",
      "今天天气晴很好\n",
      "我已经跟明月打招呼了，明月不理我\n"
     ]
    }
   ],
   "source": [
    "# return语句的基本使用\n",
    "# 函数打完招呼后返回一句话\n",
    "def hello(person):\n",
    "    print(\"{0}, 你好\".format(person))\n",
    "    print(\"今天天气晴很好\")\n",
    "    \n",
    "    return \"我已经跟{0}打招呼了，{1}不理我\".format(person, person)\n",
    "  \n",
    "p = \"明月\"\n",
    "rst = hello(p)\n",
    "\n",
    "print(rst)"
   ]
  },
  {
   "cell_type": "code",
   "execution_count": 4,
   "metadata": {},
   "outputs": [
    {
     "name": "stdout",
     "output_type": "stream",
     "text": [
      "明月, 你好\n",
      "今天天气很好\n"
     ]
    },
    {
     "data": {
      "text/plain": [
       "'我已经跟明月打招呼了，明月不理我'"
      ]
     },
     "execution_count": 4,
     "metadata": {},
     "output_type": "execute_result"
    }
   ],
   "source": [
    "def hello(person):\n",
    "    print(\"{0}, 你好\".format(person))\n",
    "    print(\"今天天气很好\")\n",
    "    \n",
    "    return \"我已经跟{0}打招呼了，{1}不理我\".format(person, person)\n",
    "  \n",
    "p = \"明月\"\n",
    "hello(p)\n",
    "\n",
    "# 这个例子是我自己试的，想与下做一个对比面的例子 下面的out14是是什么意思？"
   ]
  },
  {
   "cell_type": "code",
   "execution_count": 5,
   "metadata": {},
   "outputs": [
    {
     "name": "stdout",
     "output_type": "stream",
     "text": [
      "明月, 你好\n",
      "今天天气很好\n",
      "None\n"
     ]
    }
   ],
   "source": [
    "# M 没有return 返回None,没有打印的话是没有显示，打印的话则是显示出None\n",
    "def hello(person):\n",
    "    print(\"{0}, 你好\".format(person))\n",
    "    print(\"今天天气很好\")\n",
    "   \n",
    "  \n",
    "p = \"明月\"\n",
    "rst = hello(p)\n",
    "print(rst)"
   ]
  },
  {
   "cell_type": "code",
   "execution_count": 17,
   "metadata": {},
   "outputs": [
    {
     "name": "stdout",
     "output_type": "stream",
     "text": [
      "明月, 你肿么咧\n",
      "Sir, 你不理额额就走咧\n"
     ]
    }
   ],
   "source": [
    "def hello(person):\n",
    "    print(\"{0}, 你肿么咧\".format(person))\n",
    "    print(\"Sir, 你不理额额就走咧\")\n",
    "    \n",
    "    return \n",
    "  \n",
    "p = \"明月\"\n",
    "hello(p)"
   ]
  },
  {
   "cell_type": "code",
   "execution_count": 19,
   "metadata": {},
   "outputs": [
    {
     "name": "stdout",
     "output_type": "stream",
     "text": [
      "你好哇\n"
     ]
    },
    {
     "data": {
      "text/plain": [
       "'很高兴见到你'"
      ]
     },
     "execution_count": 19,
     "metadata": {},
     "output_type": "execute_result"
    }
   ],
   "source": [
    "def hello():\n",
    "    print(\"你好哇\")\n",
    "    return \"很高兴见到你\"\n",
    "hello()"
   ]
  },
  {
   "cell_type": "code",
   "execution_count": 20,
   "metadata": {},
   "outputs": [
    {
     "name": "stdout",
     "output_type": "stream",
     "text": [
      "LiYing, 你肿么咧\n",
      "哈哈，我提前结束了\n"
     ]
    }
   ],
   "source": [
    "# return案例2\n",
    "\n",
    "def hello(person):\n",
    "    print(\"{0}, 你肿么咧\".format(person))\n",
    "    return \"哈哈，我提前结束了\"\n",
    "    print(\"Sir, 你不理额额就走咧\")\n",
    "    return \"我已经跟{0}打招呼了，{1}不理我\".format(person, person)\n",
    "\n",
    "p = \"LiYing\"\n",
    "rst = hello(p)\n",
    "print(rst)"
   ]
  },
  {
   "cell_type": "code",
   "execution_count": 33,
   "metadata": {},
   "outputs": [
    {
     "name": "stdout",
     "output_type": "stream",
     "text": [
      "Help on built-in function print in module builtins:\n",
      "\n",
      "print(...)\n",
      "    print(value, ..., sep=' ', end='\\n', file=sys.stdout, flush=False)\n",
      "    \n",
      "    Prints the values to a stream, or to sys.stdout by default.\n",
      "    Optional keyword arguments:\n",
      "    file:  a file-like object (stream); defaults to the current sys.stdout.\n",
      "    sep:   string inserted between values, default a space.\n",
      "    end:   string appended after the last value, default a newline.\n",
      "    flush: whether to forcibly flush the stream.\n",
      "\n"
     ]
    }
   ],
   "source": [
    "\n",
    "# 查找函数帮助文档# 查找函数帮助 \n",
    "# 1. 用help函数\n",
    "help(print)\n",
    "\n",
    "# /n 的意思是换行"
   ]
  },
  {
   "cell_type": "code",
   "execution_count": 46,
   "metadata": {},
   "outputs": [
    {
     "name": "stdout",
     "output_type": "stream",
     "text": [
      "1 -------\n",
      "2 4 -------\n",
      "3 6 9 -------\n",
      "4 8 12 16 -------\n",
      "5 10 15 20 25 -------\n",
      "6 12 18 24 30 36 -------\n",
      "7 14 21 28 35 42 49 -------\n",
      "8 16 24 32 40 48 56 64 -------\n",
      "9 18 27 36 45 54 63 72 81 -------\n"
     ]
    }
   ],
   "source": [
    "# 九九乘法表\n",
    "\n",
    "\n",
    "for row in range(1,10):\n",
    "    for col in range(1, row+1):\n",
    "        print(row * col,end=\" \")\n",
    "    print(\"-------\")\n",
    "    \n",
    "    \n",
    "#为什么每列数字没有对齐？\n",
    "#没用占位符，没用格式化符号？？什么意思"
   ]
  },
  {
   "cell_type": "code",
   "execution_count": 47,
   "metadata": {},
   "outputs": [
    {
     "name": "stdout",
     "output_type": "stream",
     "text": [
      "1 -------------------\n",
      "2 4 -------------------\n",
      "3 6 9 -------------------\n",
      "4 8 12 16 -------------------\n",
      "5 10 15 20 25 -------------------\n",
      "6 12 18 24 30 36 -------------------\n",
      "7 14 21 28 35 42 49 -------------------\n",
      "8 16 24 32 40 48 56 64 -------------------\n",
      "9 18 27 36 45 54 63 72 81 -------------------\n"
     ]
    }
   ],
   "source": [
    "# 九九乘法表\n",
    "# version 1.0\n",
    "for row in range(1,10):\n",
    "    # 打印一行\n",
    "    for col in range(1, row+1):\n",
    "        # print函数默认任务打印完毕后换行\n",
    "        print( row * col, end=\" \")\n",
    "    print(\"-------------------\")"
   ]
  },
  {
   "cell_type": "code",
   "execution_count": 48,
   "metadata": {},
   "outputs": [
    {
     "name": "stdout",
     "output_type": "stream",
     "text": [
      "1 \n",
      "2 4 \n",
      "3 6 9 \n",
      "4 8 12 16 \n",
      "5 10 15 20 25 \n",
      "6 12 18 24 30 36 \n",
      "7 14 21 28 35 42 49 \n",
      "8 16 24 32 40 48 56 64 \n",
      "9 18 27 36 45 54 63 72 81 \n"
     ]
    }
   ],
   "source": [
    "# 定义一个函数，打印一行九九乘法表\n",
    "def printLine(row):\n",
    "    for col in range(1, row+1):\n",
    "        # print函数默认任务打印完毕后换行\n",
    "        print( row * col, end=\" \")\n",
    "    print(\"\")\n",
    "  \n",
    "# 九九乘法表\n",
    "# version 2.0\n",
    "for row in range(1,10):\n",
    "    printLine(row)"
   ]
  },
  {
   "cell_type": "markdown",
   "metadata": {},
   "source": [
    "## 参数详解\n",
    "- 参考资料\n",
    "- python参考资料： headfirst python -> 零基础入门学习python（小甲鱼),本讲义参考的是流畅的python-->习题-->后期可以考虑腾讯公开免费课\n",
    "- 参数分类\n",
    "  - 普通参数\n",
    "  - 默认参数\n",
    "  - 关键字参数\n",
    "  - 收集参数\n",
    "  \n",
    "### 普通参数\n",
    "- 参见上例\n",
    "- 定义的时候直接定义变量名\n",
    "- 调用的时候直接把变量或者值放入指定位置\n",
    "\n",
    "\n",
    "        def 函数名（参数1， 参数2，....):\n",
    "           函数体\n",
    "\n",
    "         # 调用\n",
    "         函数名（value1, value2,.......)#上下形参和实参一一对应\n",
    "         \n",
    "         # 调用的时候，具体值参考的是位置，按位置赋值\n",
    "###   默认参数\n",
    "- 形参带有默认值\n",
    "- 调用的时候，如果没有对相应形参赋值，则使用默认值\n",
    "       \n",
    "       def  func_name(p1=v1, p2=v2..........):\n",
    "            func_block\n",
    "       \n",
    "        #调用1\n",
    "        func_name()\n",
    "    \n",
    "        #调用2 \n",
    "         value1= 100\n",
    "         value2=200\n",
    "         func_name(value1,value2)"
   ]
  },
  {
   "cell_type": "code",
   "execution_count": 59,
   "metadata": {},
   "outputs": [
    {
     "name": "stdout",
     "output_type": "stream",
     "text": [
      "zhangsanis 18 years old, and  he is a good student\n",
      "lisiis 19 years old, and  she is a good student\n"
     ]
    }
   ],
   "source": [
    "# 默认参数示例\n",
    "# 报名函数，需要知道学生性别\n",
    "# 学习python的学生基本都是男生，所以，报名的时候如果没有特别指定，我们认为是男生\n",
    "def baoming(name, age, gender = \"male\"):#此处我有考虑是等号还是赋值\n",
    "    if gender == \"male\":\n",
    "        print(\"{0}is {1} years old, and  he is a good student\".format(name, age))\n",
    "    else:\n",
    "        print(\"{0}is {1} years old, and  she is a good student\".format(name, age))\n",
    "baoming(\"zhangsan\",18)\n",
    "baoming(\"lisi\", 19, \"female\")#此处的female 要加引号！"
   ]
  },
  {
   "cell_type": "code",
   "execution_count": 4,
   "metadata": {},
   "outputs": [],
   "source": [
    "# 默认参数示例\n",
    "# 报名函数，需要知道学生性别\n",
    "# 学习python的学生基本都是男生，所以，报名的时候如果没有特别指定，我们任务是男生\n",
    "def reg(name, age, gender=\"male\"):\n",
    "    if gender == \"male\":\n",
    "        print(\"{0} is {1}, and he is a good student\".format(name, age))\n",
    "    else:\n",
    "        print(\"{0} is {1}, and she is a good student\".format(name, age))"
   ]
  },
  {
   "cell_type": "code",
   "execution_count": 5,
   "metadata": {},
   "outputs": [
    {
     "name": "stdout",
     "output_type": "stream",
     "text": [
      "mingyue is 21, and he is a good student\n",
      "xiaojing is 23, and she is a good student\n"
     ]
    }
   ],
   "source": [
    "# 调用默认参数函数案例1\n",
    "\n",
    "reg(\"mingyue\", 21)\n",
    "\n",
    "reg(\"xiaojing\", 23, \"female\")"
   ]
  },
  {
   "cell_type": "markdown",
   "metadata": {},
   "source": [
    "### 关键字参数\n",
    "- 语法\n",
    "        def func(p1=v1, p2=v2.....):\n",
    "            func_body\n",
    "            \n",
    "        #调用函数\n",
    "        func(p1=value1, p2=value2.......)\n",
    "- 比较麻烦，但是也有好处\n",
    "  - 不容易混淆， 一般实参和形参只是按照位置一一对应即可，容易出错\n",
    "  - 使用关键字参数，可以不考虑参数位置"
   ]
  },
  {
   "cell_type": "code",
   "execution_count": 10,
   "metadata": {},
   "outputs": [
    {
     "name": "stdout",
     "output_type": "stream",
     "text": [
      "My nanme is zhangsan. I am 18 and I am a boy\n",
      "很高兴和大家做朋友\n"
     ]
    }
   ],
   "source": [
    "def stu(name, age,gender):\n",
    "    print(\"My nanme is {0}. I am {1} and I am a {2}\".format(name, age, gender))\n",
    "    print(\"很高兴和大家做朋友\")\n",
    "stu(\"zhangsan\", 18, \"boy\")"
   ]
  },
  {
   "cell_type": "code",
   "execution_count": 11,
   "metadata": {},
   "outputs": [
    {
     "name": "stdout",
     "output_type": "stream",
     "text": [
      "My nanme is zhangsan. I am 18 and I am a boy\n",
      "很高兴和大家做朋友\n",
      "None\n"
     ]
    }
   ],
   "source": [
    "def stu(name, age,gender):\n",
    "    print(\"My nanme is {0}. I am {1} and I am a {2}\".format(name, age, gender))\n",
    "    print(\"很高兴和大家做朋友\")\n",
    "    \n",
    "s = stu(\"zhangsan\", 18, \"boy\")\n",
    "print(s)\n"
   ]
  },
  {
   "cell_type": "code",
   "execution_count": 13,
   "metadata": {},
   "outputs": [
    {
     "name": "stdout",
     "output_type": "stream",
     "text": [
      "My nanme is zhangsan. I am 18 and I am a boy\n",
      "很高兴和大家做朋友\n"
     ]
    }
   ],
   "source": [
    "def stu(name, age,gender):\n",
    "    print(\"My nanme is {0}. I am {1} and I am a {2}\".format(name, age, gender))\n",
    "    print(\"很高兴和大家做朋友\")\n",
    "    \n",
    "stu(\"zhangsan\", 18, \"boy\")\n"
   ]
  },
  {
   "cell_type": "code",
   "execution_count": 15,
   "metadata": {},
   "outputs": [
    {
     "name": "stdout",
     "output_type": "stream",
     "text": [
      "My nanme is zhangsan. I am 18 and I am a boy\n",
      "很高兴和大家做朋友\n"
     ]
    }
   ],
   "source": [
    "def stu(name, age,gender):\n",
    "    print(\"My nanme is {0}. I am {1} and I am a {2}\".format(name, age, gender))\n",
    "    print(\"很高兴和大家做朋友\")\n",
    "    \n",
    "n = \"zhangsan\"\n",
    "a = 18\n",
    "g = \"boy\"\n",
    "stu(n, a, g)"
   ]
  },
  {
   "cell_type": "code",
   "execution_count": 19,
   "metadata": {},
   "outputs": [
    {
     "name": "stdout",
     "output_type": "stream",
     "text": [
      "My nanme is zhangsan. I am 18 and I am a boy\n",
      "很高兴和大家做朋友\n"
     ]
    }
   ],
   "source": [
    "def stu(name=_, age=\"nianling\",gender=_):\n",
    "    print(\"My nanme is {0}. I am {1} and I am a {2}\".format(name, age, gender))\n",
    "    print(\"很高兴和大家做朋友\")\n",
    "    \n",
    "n = \"zhangsan\"\n",
    "a = 18\n",
    "g = \"boy\"\n",
    "stu( age=a, name=n,gender=g)"
   ]
  },
  {
   "cell_type": "code",
   "execution_count": 1,
   "metadata": {},
   "outputs": [
    {
     "name": "stdout",
     "output_type": "stream",
     "text": [
      "I am a student\n",
      "我叫 18， 我今年 jingjing岁了， 我住我家\n",
      "I am a student\n",
      "我叫 jingjing， 我今年 18岁了， 我住我家\n"
     ]
    }
   ],
   "source": [
    "# 关键字参数案例\n",
    "def stu(name, age, addr):\n",
    "    print(\"I am a student\")\n",
    "    print(\"我叫 {0}， 我今年 {1}岁了， 我住{2}\".format(name, age, addr))\n",
    "    \n",
    "    \n",
    "n = \"jingjing\"\n",
    "a = 18\n",
    "addr = \"我家\"\n",
    "\n",
    "# 普通参数，只按照位置传递，容易出错\n",
    "stu(a, n, addr)\n",
    "\n",
    "\n",
    "def stu_key(name=\"No name\", age=0, addr=\"No addr\"):#参数等号前后不要空格。逗号后跟一空格\n",
    "    print(\"I am a student\")\n",
    "    print(\"我叫 {0}， 我今年 {1}岁了， 我住{2}\".format(name, age, addr))\n",
    "    \n",
    "    \n",
    "n = \"jingjing\"#等号前后最好有空格，规范\n",
    "a = 18\n",
    "addr = \"我家\"\n",
    "\n",
    "# 普通参数，只按照位置传递，容易出错\n",
    "stu_key(age=a, name=n, addr=addr)"
   ]
  },
  {
   "cell_type": "markdown",
   "metadata": {},
   "source": [
    "### 收集参数\n",
    "- 把没有位置，不能和定义时的参数位置相对应的参数，放入一个特定的数据结构中\n",
    "- 语法\n",
    "         \n",
    "         def func(*args):\n",
    "         func_body\n",
    "         按照list使用方式访问args得到传入的参数\n",
    "         \n",
    "         调用\n",
    "         func(p1, p2, p3, .....)\n",
    "- 参数名args不是必须这么写，但是，我们推荐直接用args，约定俗成\n",
    "- 参数名args前需要由星号\n",
    "- 收集参数可以和其他参数共存"
   ]
  },
  {
   "cell_type": "markdown",
   "metadata": {},
   "source": [
    "函数定义了三个参数，但是你想传入10个参数"
   ]
  },
  {
   "cell_type": "code",
   "execution_count": 7,
   "metadata": {},
   "outputs": [
    {
     "name": "stdout",
     "output_type": "stream",
     "text": [
      "大家好，我简单做一下自我介绍\n",
      "张豪\n",
      "18\n",
      "洛阳\n",
      "大学\n"
     ]
    }
   ],
   "source": [
    "# 收集参数代码# 收集参数代 \n",
    "# 函数模拟一个学生进行自我介绍，但具体内容不清楚\n",
    "# args把他看做一个list\n",
    "\n",
    "def stu(*args):\n",
    "    print(\"大家好，我简单做一下自我介绍\")\n",
    "    for i in args:\n",
    "        print(i)\n",
    "    \n",
    "stu(\"张豪\",18, \"洛阳\",\"大学\")\n"
   ]
  },
  {
   "cell_type": "code",
   "execution_count": 8,
   "metadata": {},
   "outputs": [
    {
     "name": "stdout",
     "output_type": "stream",
     "text": [
      "Hello 大家好，我自我介绍以下，简答说两句：\n",
      "<class 'tuple'>\n",
      "liuying\n",
      "18\n",
      "北京大通州区\n",
      "wangxiaojing\n",
      "single\n",
      "Hello 大家好，我自我介绍以下，简答说两句：\n",
      "<class 'tuple'>\n",
      "周大神\n"
     ]
    }
   ],
   "source": [
    "# 收集参数代码\n",
    "# 函数模拟一个学生进行自我介绍，但具体内容不清楚\n",
    "# args把他看做一个list\n",
    "def stu( *args):\n",
    "    print(\"Hello 大家好，我自我介绍以下，简答说两句：\")\n",
    "    # type函数作用是检测变量的类型\n",
    "    print(type(args))\n",
    "    for item in args:\n",
    "        print(item)\n",
    "\n",
    "\n",
    "stu(\"liuying\", 18, \"北京大通州区\", \"wangxiaojing\", \"single\")\n",
    "\n",
    "stu(\"周大神\")"
   ]
  },
  {
   "cell_type": "code",
   "execution_count": 9,
   "metadata": {},
   "outputs": [
    {
     "name": "stdout",
     "output_type": "stream",
     "text": [
      "Hello 大家好，我自我介绍以下，简答说两句：\n",
      "<class 'tuple'>\n"
     ]
    }
   ],
   "source": [
    "# 收集参数案例\n",
    "# 说明收集参数可以不带任何实参调用，此时收集参数为空tuple\n",
    "stu()"
   ]
  },
  {
   "cell_type": "code",
   "execution_count": 14,
   "metadata": {},
   "outputs": [
    {
     "name": "stdout",
     "output_type": "stream",
     "text": [
      "大家好，我简单做一下自我介绍\n"
     ]
    }
   ],
   "source": [
    "def stu(*args):\n",
    "    print(\"大家好，我简单做一下自我介绍\")\n",
    "    for i in args:\n",
    "        print(i)\n",
    "    \n",
    "stu()"
   ]
  },
  {
   "cell_type": "code",
   "execution_count": 15,
   "metadata": {},
   "outputs": [
    {
     "name": "stdout",
     "output_type": "stream",
     "text": [
      "Hello 大家好，我自我介绍以下，简答说两句：\n",
      "<class 'tuple'>\n",
      "liuying\n",
      "18\n",
      "北京大通州区\n",
      "wangxiaojing\n",
      "single\n",
      "Hello 大家好，我自我介绍以下，简答说两句：\n",
      "<class 'tuple'>\n",
      "周大神\n"
     ]
    }
   ],
   "source": [
    "# 收集参数代码\n",
    "# 函数模拟一个学生进行自我介绍，但具体内容不清楚\n",
    "# args把他看做一个list\n",
    "def stu( *args):\n",
    "    print(\"Hello 大家好，我自我介绍以下，简答说两句：\")\n",
    "    # type函数作用是检测变量的类型\n",
    "    print(type(args))\n",
    "    for item in args:\n",
    "        print(item)\n",
    "\n",
    "\n",
    "stu(\"liuying\", 18, \"北京大通州区\", \"wangxiaojing\", \"single\")\n",
    "\n",
    "stu(\"周大神\")"
   ]
  },
  {
   "cell_type": "code",
   "execution_count": 17,
   "metadata": {},
   "outputs": [
    {
     "ename": "TypeError",
     "evalue": "stu() got an unexpected keyword argument 'name'",
     "output_type": "error",
     "traceback": [
      "\u001b[1;31m---------------------------------------------------------------------------\u001b[0m",
      "\u001b[1;31mTypeError\u001b[0m                                 Traceback (most recent call last)",
      "\u001b[1;32m<ipython-input-17-191626e9842b>\u001b[0m in \u001b[0;36m<module>\u001b[1;34m()\u001b[0m\n\u001b[0;32m      1\u001b[0m \u001b[1;31m# 如果使用关键字参数格式调用，会出现问题\u001b[0m\u001b[1;33m\u001b[0m\u001b[1;33m\u001b[0m\u001b[0m\n\u001b[1;32m----> 2\u001b[1;33m \u001b[0mstu\u001b[0m\u001b[1;33m(\u001b[0m\u001b[0mname\u001b[0m\u001b[1;33m=\u001b[0m\u001b[1;34m\"liuying\"\u001b[0m\u001b[1;33m)\u001b[0m\u001b[1;33m\u001b[0m\u001b[0m\n\u001b[0m",
      "\u001b[1;31mTypeError\u001b[0m: stu() got an unexpected keyword argument 'name'"
     ]
    }
   ],
   "source": [
    "# 如果使用关键字参数格式调用，会出现问题\n",
    "stu(name=\"liuying\")"
   ]
  },
  {
   "cell_type": "markdown",
   "metadata": {},
   "source": [
    "#### 收集参数之关键字参数\n",
    "- 把关键字参数按字典格式存入收集参数\n",
    "- 语法\n",
    "\n",
    "\n",
    "        def func(**kwargs):\n",
    "           func_body\n",
    "           \n",
    "        # 调用\n",
    "        func(p1=v1, p2=v2, p3=v3........)\n",
    "        \n",
    "- kwargs一般约定俗成\n",
    "- 调用的时候，把多余的关键字参数放入kwargs\n",
    "- 访问kwargs需要按字典格式访问"
   ]
  },
  {
   "cell_type": "code",
   "execution_count": 20,
   "metadata": {},
   "outputs": [
    {
     "name": "stdout",
     "output_type": "stream",
     "text": [
      "Hello 大家好，我先自我介绍一下：\n",
      "<class 'dict'>\n",
      "name -------- liuying\n",
      "age -------- 19\n",
      "addr -------- 北京大通州区\n",
      "lover -------- 王晓静\n",
      "work -------- Teacher\n",
      "**************************************************\n",
      "Hello 大家好，我先自我介绍一下：\n",
      "<class 'dict'>\n",
      "name -------- 周大神\n"
     ]
    }
   ],
   "source": [
    "# 收集参数案例\n",
    "# 自我介绍\n",
    "# 调用的时候需要使用关键字参数调用\n",
    "def stu( **kwargs):\n",
    "    # 在函数体内对于kwargs的使用不用带星号\n",
    "    print(\"Hello 大家好，我先自我介绍一下：\")\n",
    "    print(type(kwargs))\n",
    "    # 对于字典的访问，python2 和python3有区别\n",
    "    for k,v in kwargs.items():\n",
    "        print(k, \"--------\", v)\n",
    "    \n",
    "stu(name=\"liuying\",  age=19, addr=\"北京大通州区\", lover=\"王晓静\", work=\"Teacher\")\n",
    "\n",
    "print(\"*\" * 50)\n",
    "\n",
    "stu(name=\"周大神\")"
   ]
  },
  {
   "cell_type": "code",
   "execution_count": 22,
   "metadata": {},
   "outputs": [
    {
     "name": "stdout",
     "output_type": "stream",
     "text": [
      "Hello 大家好，我先自我介绍一下：\n",
      "<class 'dict'>\n"
     ]
    }
   ],
   "source": [
    "# 收集参数可以为空案例\n",
    "stu()"
   ]
  },
  {
   "cell_type": "markdown",
   "metadata": {},
   "source": [
    "### 收集参数混合调用的顺序问题\n",
    "- 收集参数，关键字参数，普通参数可以混合使用\n",
    "- 使用规则就是，普通参数和关键字参数优先\n",
    "- 定义的时候一般找普通参数，关键字参数，收集参数tuple，收集参数dict"
   ]
  },
  {
   "cell_type": "code",
   "execution_count": 32,
   "metadata": {},
   "outputs": [
    {
     "name": "stdout",
     "output_type": "stream",
     "text": [
      "大家好啊，简单做个自我介绍\n",
      "我叫张豪，我今年18岁\n",
      "我的爱好是游泳\n",
      "张三\n",
      "李四\n",
      "hobby2 --- 跑步\n"
     ]
    }
   ],
   "source": [
    "def stu(name, age, *args, hobby=\"没有\",**kwargs):\n",
    "    print(\"大家好啊，简单做个自我介绍\")\n",
    "    print(\"我叫{0}，我今年{1}岁\".format(name, age))\n",
    "    if hobby == \"没有\":\n",
    "        print(\"平常没有什么特别的爱好\")\n",
    "    else:\n",
    "        print(\"我的爱好是{0}\".format(hobby))\n",
    "    for i in args:\n",
    "        print(i)\n",
    "    for k,v in kwargs.items():\n",
    "        print(k, '---', v)\n",
    "stu(\"张豪\", 18,\"张三\",\"李四\",hobby=\"游泳\",hobby2=\"跑步\" )\n",
    "        "
   ]
  },
  {
   "cell_type": "code",
   "execution_count": 33,
   "metadata": {},
   "outputs": [
    {
     "name": "stdout",
     "output_type": "stream",
     "text": [
      "Hello 大家好\n",
      "我叫 liuying， 我今年19大了。\n",
      "我没有爱好， so sorry\n",
      "********************\n",
      "##############################\n",
      "Hello 大家好\n",
      "我叫 liuying， 我今年19大了。\n",
      "我的爱好是游泳\n",
      "********************\n",
      "##############################\n",
      "Hello 大家好\n",
      "我叫 liuying， 我今年19大了。\n",
      "我的爱好是游泳\n",
      "********************\n",
      "王晓静\n",
      "刘石头\n",
      "##############################\n",
      "hobby2 --- 烹饪\n",
      "hobby3 --- 跟不同女生聊天\n"
     ]
    }
   ],
   "source": [
    "# 收集参数混合调用案例\n",
    "# stu模拟一个学生的自我介绍\n",
    "def stu(name, age, *args, hobby=\"没有\", **kwargs):# MM 关于*args的位置,先写没有关键字的参数，写一堆，再写有关键字的参数\n",
    "    print(\"Hello 大家好\")\n",
    "    print(\"我叫 {0}， 我今年{1}大了。\".format(name, age))\n",
    "    if hobby == \"没有\":\n",
    "        print(\"我没有爱好， so sorry\")\n",
    "    else:\n",
    "        print(\"我的爱好是{0}\".format(hobby))\n",
    "        \n",
    "    print(\"*\" * 20)   \n",
    "    \n",
    "    for i in args:\n",
    "        print(i)\n",
    "    \n",
    "    print(\"#\" * 30)\n",
    "    \n",
    "    for k,v in kwargs.items():\n",
    "        print(k, \"---\", v)\n",
    "        \n",
    "        \n",
    "# 开始调用函数\n",
    "name = \"liuying\"\n",
    "age = 19\n",
    "\n",
    "\n",
    "# 调用的不同格式\n",
    "stu(name, age)\n",
    "\n",
    "stu(name, age, hobby=\"游泳\")\n",
    "\n",
    "stu(name, age, \"王晓静\", \"刘石头\", hobby=\"游泳\", hobby2=\"烹饪\", hobby3=\"跟不同女生聊天\")"
   ]
  },
  {
   "cell_type": "markdown",
   "metadata": {},
   "source": [
    "### 收集参数的解包问题\n",
    "- 把参数放入list或者字典中，直接把list/dict中的值放入收集参数中\n",
    "- 语法：参看案例"
   ]
  },
  {
   "cell_type": "code",
   "execution_count": 38,
   "metadata": {},
   "outputs": [
    {
     "name": "stdout",
     "output_type": "stream",
     "text": [
      "哈哈哈哈哈\n",
      "['张豪', 18, '跑步']\n"
     ]
    }
   ],
   "source": [
    "def stu(*args):\n",
    "    print(\"哈哈哈哈哈\")\n",
    "    for i in args:\n",
    "        print(i)\n",
    "l= [\"张豪\",18, \"跑步\"]\n",
    "stu(l)\n",
    "\n",
    "# 想要的效果是，按照list列出的参数，一个一个进行for循环，但是并不是\n",
    "        "
   ]
  },
  {
   "cell_type": "code",
   "execution_count": 40,
   "metadata": {},
   "outputs": [
    {
     "name": "stdout",
     "output_type": "stream",
     "text": [
      "哈哈哈哈哈\n",
      "张豪\n",
      "18\n",
      "跑步\n"
     ]
    }
   ],
   "source": [
    "stu(*l)"
   ]
  },
  {
   "cell_type": "code",
   "execution_count": 41,
   "metadata": {},
   "outputs": [
    {
     "name": "stdout",
     "output_type": "stream",
     "text": [
      "哈哈哈哈哈\n",
      "<class 'str'>\n",
      "0\n",
      "liuying\n",
      "<class 'int'>\n",
      "1\n",
      "19\n",
      "<class 'int'>\n",
      "2\n",
      "23\n",
      "<class 'str'>\n",
      "3\n",
      "wangxiaojing\n"
     ]
    }
   ],
   "source": [
    "# 收集参数的解包问题\n",
    "\n",
    "def stu(*args):\n",
    "    print(\"哈哈哈哈哈\")\n",
    "    # n 用来表示循环次数\n",
    "    # 主要用来调试\n",
    "    n = 0\n",
    "    for i in args:\n",
    "        print(type(i))\n",
    "        print(n)\n",
    "        n += 1\n",
    "        print(i)\n",
    "        \n",
    "        \n",
    "#stu(\"liuying\", \"liuxiaoyhing\", 19, 200)\n",
    "\n",
    "l = [\"liuying\", 19, 23, \"wangxiaojing\"]\n",
    " \n",
    "#stu(l)\n",
    "# 此时，args的表示形式是字典内一个list类型的元素，即 arg = ([\"liuying\", 19, 23, \"wangxiaojing\"],)\n",
    "# 很显然跟我们最初的想法违背\n",
    "\n",
    "\n",
    "# 此时的调用，我们就需要解包符号，即调用的时候前面加一个星号\n",
    "stu(*l)"
   ]
  },
  {
   "cell_type": "markdown",
   "metadata": {},
   "source": [
    "### 同理，dict类型收集参数一样可以解包，但是   # 视频缺失\n",
    "- 对dict类型进行解包\n",
    "- 需要用两个星号进行解包"
   ]
  },
  {
   "cell_type": "markdown",
   "metadata": {},
   "source": [
    "## 返回值\n",
    "- 函数和过程的区别：有无返回值\n",
    "- 需要用return显示返回内容，\n",
    "- 如果没有返回，则默认返回None\n",
    "- 推荐写法，无论有无返回值，最后都要以return 结束（不写其实也无所谓）"
   ]
  },
  {
   "cell_type": "code",
   "execution_count": 42,
   "metadata": {},
   "outputs": [
    {
     "name": "stdout",
     "output_type": "stream",
     "text": [
      "有返回值呀\n",
      "1\n",
      "没有返回值\n",
      "None\n"
     ]
    }
   ],
   "source": [
    "# 返回值示例\n",
    "\n",
    "def func_1():\n",
    "    print(\"有返回值呀\")\n",
    "    return 1\n",
    "\n",
    "def func_2():\n",
    "    print(\"没有返回值\")\n",
    "     \n",
    "    \n",
    "f1 = func_1()\n",
    "print(f1)\n",
    "\n",
    "f2 = func_2()\n",
    "print(f2)"
   ]
  },
  {
   "cell_type": "markdown",
   "metadata": {},
   "source": [
    "# 函数文档\n",
    "- 函数的文档的作用是对当前函数提供使用相关的参考信息  #M给别人看的\n",
    "- 文档的写法\n",
    "  - 在函数内部开始的第一行使用三引号字符串定义符（单引号只能用一行，推荐用三引号）\n",
    "  - 一般具有特定格式\n",
    "  - 参看案例\n",
    "- 文档查看\n",
    "  - 使用help函数，形如 help(func)\n",
    "  - 使用__doc__, 参看案例"
   ]
  },
  {
   "cell_type": "code",
   "execution_count": 2,
   "metadata": {},
   "outputs": [],
   "source": [
    "# 文档案例\n",
    "# 函数stu是模拟一个学生的自我介绍的内容\n",
    "def stu(name, age, *args):\n",
    "    '''\n",
    "    这是第一行\n",
    "    这是第二行\n",
    "    这是第三行\n",
    "    '''\n",
    "    print(\"This is hanshu stu\")"
   ]
  },
  {
   "cell_type": "code",
   "execution_count": 5,
   "metadata": {},
   "outputs": [
    {
     "name": "stdout",
     "output_type": "stream",
     "text": [
      "Help on function stu in module __main__:\n",
      "\n",
      "stu(name, age, *args)\n",
      "    这是第一行\n",
      "    这是第二行\n",
      "    这是第三行\n",
      "\n"
     ]
    },
    {
     "data": {
      "text/plain": [
       "'\\n    这是第一行\\n    这是第二行\\n    这是第三行\\n    '"
      ]
     },
     "execution_count": 5,
     "metadata": {},
     "output_type": "execute_result"
    }
   ],
   "source": [
    "# 查看函数文档# 查看函数文档\n",
    "help(stu)\n",
    "stu.__doc__"
   ]
  },
  {
   "cell_type": "code",
   "execution_count": 47,
   "metadata": {},
   "outputs": [
    {
     "name": "stdout",
     "output_type": "stream",
     "text": [
      "Help on function stu in module __main__:\n",
      "\n",
      "stu(name, age)\n",
      "    这是文档的文字内容\n",
      "    :param name: 表示学生的姓名\n",
      "    :param age: 表示学生的年龄\n",
      "    :return: 此函数没有返回值\n",
      "\n",
      "None\n",
      "********************\n",
      "\n",
      "    这是文档的文字内容\n",
      "    :param name: 表示学生的姓名\n",
      "    :param age: 表示学生的年龄\n",
      "    :return: 此函数没有返回值\n",
      "    \n"
     ]
    }
   ],
   "source": [
    "# MM 标准格式\n",
    "def stu(name, age):\n",
    "    '''\n",
    "    这是文档的文字内容\n",
    "    :param name: 表示学生的姓名\n",
    "    :param age: 表示学生的年龄\n",
    "    :return: 此函数没有返回值\n",
    "    '''\n",
    "    pass\n",
    "\n",
    "\n",
    "print(help(stu))\n",
    "\n",
    "print(\"*\" * 20)\n",
    "\n",
    "print(stu.__doc__)"
   ]
  },
  {
   "cell_type": "code",
   "execution_count": null,
   "metadata": {},
   "outputs": [],
   "source": []
  }
 ],
 "metadata": {
  "kernelspec": {
   "display_name": "Python 3",
   "language": "python",
   "name": "python3"
  },
  "language_info": {
   "codemirror_mode": {
    "name": "ipython",
    "version": 3
   },
   "file_extension": ".py",
   "mimetype": "text/x-python",
   "name": "python",
   "nbconvert_exporter": "python",
   "pygments_lexer": "ipython3",
   "version": "3.6.5"
  }
 },
 "nbformat": 4,
 "nbformat_minor": 2
}
